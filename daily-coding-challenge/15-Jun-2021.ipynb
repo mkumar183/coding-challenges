{
 "cells": [
  {
   "cell_type": "markdown",
   "metadata": {},
   "source": [
    "Good morning! Here's your coding interview problem for today.\n",
    "\n",
    "This problem was asked by Pivotal.\n",
    "\n",
    "A step word is formed by taking a given word, adding a letter, and anagramming the result. For example, starting with the word \"APPLE\", you can add an \"A\" and anagram to get \"APPEAL\".\n",
    "\n",
    "Given a dictionary of words and an input word, create a function that returns all valid step words."
   ]
  },
  {
   "cell_type": "markdown",
   "metadata": {},
   "source": [
    "function find_anagrammes(MyDictionary, MyWord):\n",
    "for currentWord in dict1: \n",
    "  if all letters of the input_word exist in currentWord: \n",
    "      print currentWord\n",
    "      \n",
    "      \n",
    "function(sourceWord, DestinationWord): \n",
    "   for each letter k in sourceWord: \n",
    "       if k does not exist in DestinationWord after the position where previous letter was found:\n",
    "          return false\n",
    "   return true\n",
    "   \n",
    "find_anagrams(['Apple', 'App', 'Application','Sapple'], 'Apple')"
   ]
  },
  {
   "cell_type": "code",
   "execution_count": 83,
   "metadata": {},
   "outputs": [
    {
     "name": "stdout",
     "output_type": "stream",
     "text": [
      "a 0\n",
      "p 0\n",
      "l 1\n",
      "p -1\n",
      "a 0\n",
      "p 0\n",
      "l -1\n",
      "a 0\n",
      "p 0\n",
      "l 1\n",
      "p -1\n",
      "a 1\n",
      "p 0\n",
      "l 1\n",
      "p -1\n"
     ]
    }
   ],
   "source": [
    "dict1 = ['Apple', 'App', 'Application','Sapple']\n",
    "\n",
    "word = 'Apple'\n",
    "\n",
    "def find_anagrammes(MyDictionary, MyWord):\n",
    "    for currentWord in MyDictionary:\n",
    "        print(currentWord)\n",
    "      if isAnagram(MyWord, currentWord): \n",
    "          print(currentWord);\n",
    "      \n",
    "      \n",
    "def isAnagram(sourceWord, DestinationWord): \n",
    "    start = 0\n",
    "    sourceWord = sourceWord.lower()\n",
    "    DestinationWord = DestinationWord.lower()\n",
    "    for k in sourceWord: \n",
    "        position = DestinationWord[start:].find(k)\n",
    "        print(k,position)\n",
    "        if position == -1:\n",
    "           return False\n",
    "        else:\n",
    "             start = start + position +1\n",
    "    return True\n",
    "   \n",
    "find_anagrammes(['Apple', 'App', 'Application','Sapple'], 'aplp')"
   ]
  },
  {
   "cell_type": "code",
   "execution_count": null,
   "metadata": {},
   "outputs": [],
   "source": []
  }
 ],
 "metadata": {
  "kernelspec": {
   "display_name": "Python 3",
   "language": "python",
   "name": "python3"
  },
  "language_info": {
   "codemirror_mode": {
    "name": "ipython",
    "version": 3
   },
   "file_extension": ".py",
   "mimetype": "text/x-python",
   "name": "python",
   "nbconvert_exporter": "python",
   "pygments_lexer": "ipython3",
   "version": "3.7.6"
  }
 },
 "nbformat": 4,
 "nbformat_minor": 4
}

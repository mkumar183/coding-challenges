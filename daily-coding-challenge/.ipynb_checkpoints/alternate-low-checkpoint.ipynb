{
 "cells": [
  {
   "cell_type": "code",
   "execution_count": null,
   "metadata": {},
   "outputs": [],
   "source": [
    "# Given a linked list, rearrange the node values such that they appear in \n",
    "# alternating low -> high -> low -> high ... form. \n",
    "# For example, given 1 -> 2 -> 3 -> 4 -> 5, \n",
    "# you should return 1 -> 3 -> 2 -> 5 -> 4."
   ]
  },
  {
   "cell_type": "code",
   "execution_count": 21,
   "metadata": {},
   "outputs": [
    {
     "name": "stdout",
     "output_type": "stream",
     "text": [
      "1\n",
      "3\n",
      "2\n",
      "5\n",
      "4\n",
      "6\n"
     ]
    }
   ],
   "source": [
    "inp = [1,3,2,5,4,6]\n",
    "\n",
    "# brute force algo\n",
    "# sort array \n",
    "# print alternate indexed element\n",
    "\n",
    "inp.sort()\n",
    "for i in range(len(inp)):\n",
    "    if i == 0:\n",
    "        print(inp[i])\n",
    "    elif i % 2 == 1:\n",
    "        print (inp[i]) if i == len(inp)-1 else print (inp[i+1])            \n",
    "    else:\n",
    "        print(inp[i-1])"
   ]
  }
 ],
 "metadata": {
  "kernelspec": {
   "display_name": "Python 3",
   "language": "python",
   "name": "python3"
  },
  "language_info": {
   "codemirror_mode": {
    "name": "ipython",
    "version": 3
   },
   "file_extension": ".py",
   "mimetype": "text/x-python",
   "name": "python",
   "nbconvert_exporter": "python",
   "pygments_lexer": "ipython3",
   "version": "3.7.6"
  }
 },
 "nbformat": 4,
 "nbformat_minor": 4
}

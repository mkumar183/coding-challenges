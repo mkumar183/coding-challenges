{
 "cells": [
  {
   "cell_type": "markdown",
   "metadata": {},
   "source": [
    "On election day, a voting machine writes data in the form (voter_id, candidate_id) to a text file. Write a program that reads this file as a stream and returns the top 3 candidates at any given time. If you find a voter voting more than once, report this as fraud."
   ]
  },
  {
   "cell_type": "code",
   "execution_count": 5,
   "metadata": {},
   "outputs": [
    {
     "name": "stdout",
     "output_type": "stream",
     "text": [
      "['1', 'c1']\n",
      "['2', 'c2']\n",
      "['3', 'c1']\n",
      "['4', 'c2']\n",
      "['5', 'c1']\n",
      "{'c1': 3, 'c2': 2}\n"
     ]
    }
   ],
   "source": [
    "import csv\n",
    "\n",
    "def find_top_three(votes):\n",
    "    top_three_values = [votes[0], votes[1], votes[2]) #TODO add check in case votes has less than three elements\n",
    "    top_three_keys = [,1,2]\n",
    "    for keys in votes.keys():\n",
    "        if votes[keys] > max(top_three):\n",
    "            #replace smallest number by this number\n",
    "\n",
    "with open('votings.csv') as csv_file:\n",
    "    csv_reader = csv.reader(csv_file, delimiter=',')\n",
    "    line_count = 0\n",
    "    votes = {}\n",
    "    for row in csv_reader:\n",
    "        print(row)\n",
    "        #print(row[0], row[1])\n",
    "        if row[1] in votes.keys():\n",
    "            votes[row[1]] = votes[row[1]] +1\n",
    "        else:\n",
    "            votes[row[1]] = 1\n",
    "    \n",
    "    find_top_three(votes)\n",
    "    print(votes)\n",
    "        \n",
    "        \n",
    "        "
   ]
  }
 ],
 "metadata": {
  "kernelspec": {
   "display_name": "Python 3",
   "language": "python",
   "name": "python3"
  },
  "language_info": {
   "codemirror_mode": {
    "name": "ipython",
    "version": 3
   },
   "file_extension": ".py",
   "mimetype": "text/x-python",
   "name": "python",
   "nbconvert_exporter": "python",
   "pygments_lexer": "ipython3",
   "version": "3.7.6"
  }
 },
 "nbformat": 4,
 "nbformat_minor": 4
}

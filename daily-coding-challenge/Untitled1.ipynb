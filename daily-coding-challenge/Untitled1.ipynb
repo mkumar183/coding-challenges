{
 "cells": [
  {
   "cell_type": "markdown",
   "metadata": {},
   "source": [
    "Write a function which takes an input between 0 - 999 and \n",
    "print it's value in english words.\n",
    "eg. k = 417\n",
    "output = four hundred seventeen.\n",
    "k = 555\n",
    "output = five hundred fifty five"
   ]
  },
  {
   "cell_type": "code",
   "execution_count": 33,
   "metadata": {},
   "outputs": [
    {
     "name": "stdout",
     "output_type": "stream",
     "text": [
      "3\n",
      "Three hundred  2\n"
     ]
    },
    {
     "ename": "NameError",
     "evalue": "name 'tensplace' is not defined",
     "output_type": "error",
     "traceback": [
      "\u001b[0;31m---------------------------------------------------------------------------\u001b[0m",
      "\u001b[0;31mNameError\u001b[0m                                 Traceback (most recent call last)",
      "\u001b[0;32m<ipython-input-33-5f6224734a55>\u001b[0m in \u001b[0;36m<module>\u001b[0;34m\u001b[0m\n\u001b[1;32m     33\u001b[0m \u001b[0;34m\u001b[0m\u001b[0m\n\u001b[1;32m     34\u001b[0m \u001b[0;34m\u001b[0m\u001b[0m\n\u001b[0;32m---> 35\u001b[0;31m \u001b[0mprint\u001b[0m\u001b[0;34m(\u001b[0m\u001b[0mprintNumberInEnglish\u001b[0m\u001b[0;34m(\u001b[0m\u001b[0;36m323\u001b[0m\u001b[0;34m)\u001b[0m\u001b[0;34m)\u001b[0m\u001b[0;34m\u001b[0m\u001b[0;34m\u001b[0m\u001b[0m\n\u001b[0m",
      "\u001b[0;32m<ipython-input-33-5f6224734a55>\u001b[0m in \u001b[0;36mprintNumberInEnglish\u001b[0;34m(x)\u001b[0m\n\u001b[1;32m     26\u001b[0m         \u001b[0mprint\u001b[0m\u001b[0;34m(\u001b[0m\u001b[0moutString\u001b[0m\u001b[0;34m,\u001b[0m \u001b[0mtenth\u001b[0m\u001b[0;34m)\u001b[0m\u001b[0;34m\u001b[0m\u001b[0;34m\u001b[0m\u001b[0m\n\u001b[1;32m     27\u001b[0m \u001b[0;34m\u001b[0m\u001b[0m\n\u001b[0;32m---> 28\u001b[0;31m         \u001b[0moutString\u001b[0m \u001b[0;34m=\u001b[0m \u001b[0moutString\u001b[0m \u001b[0;34m+\u001b[0m \u001b[0mpreDefined\u001b[0m\u001b[0;34m[\u001b[0m\u001b[0mtensplace\u001b[0m\u001b[0;34m]\u001b[0m \u001b[0;32mif\u001b[0m \u001b[0mtensplace\u001b[0m \u001b[0;34m>\u001b[0m \u001b[0;36m0\u001b[0m \u001b[0;32melse\u001b[0m \u001b[0;34m''\u001b[0m\u001b[0;34m\u001b[0m\u001b[0;34m\u001b[0m\u001b[0m\n\u001b[0m\u001b[1;32m     29\u001b[0m         \u001b[0mremaining\u001b[0m \u001b[0;34m=\u001b[0m \u001b[0mx\u001b[0m \u001b[0;34m-\u001b[0m \u001b[0;34m(\u001b[0m\u001b[0mx\u001b[0m\u001b[0;34m/\u001b[0m\u001b[0;36m100\u001b[0m\u001b[0;34m)\u001b[0m\u001b[0;34m*\u001b[0m\u001b[0;36m100\u001b[0m \u001b[0;34m-\u001b[0m \u001b[0;34m(\u001b[0m\u001b[0;34m(\u001b[0m\u001b[0mx\u001b[0m\u001b[0;34m//\u001b[0m\u001b[0;36m100\u001b[0m\u001b[0;34m)\u001b[0m\u001b[0;34m/\u001b[0m\u001b[0;36m10\u001b[0m\u001b[0;34m)\u001b[0m\u001b[0;34m*\u001b[0m\u001b[0;36m10\u001b[0m\u001b[0;34m\u001b[0m\u001b[0;34m\u001b[0m\u001b[0m\n\u001b[1;32m     30\u001b[0m         \u001b[0moutString\u001b[0m \u001b[0;34m=\u001b[0m \u001b[0moutString\u001b[0m \u001b[0;34m+\u001b[0m \u001b[0mpreDefined\u001b[0m\u001b[0;34m[\u001b[0m\u001b[0mremaining\u001b[0m\u001b[0;34m]\u001b[0m\u001b[0;34m\u001b[0m\u001b[0;34m\u001b[0m\u001b[0m\n",
      "\u001b[0;31mNameError\u001b[0m: name 'tensplace' is not defined"
     ]
    }
   ],
   "source": [
    "preDefined = {0: 'zero', \n",
    "              1: 'One',\n",
    "              2: 'Two',\n",
    "              3: 'Three',\n",
    "              4: 'Four',\n",
    "              30: 'Thirty',\n",
    "              90: 'Ninety',\n",
    "              100: 'hundred'\n",
    "             }\n",
    "\n",
    "def getConstants(x):\n",
    "    if (x >= 0 and x <= 20) or (x in [30,40,50,60,70,80,90,100]):\n",
    "        return preDefined[x]\n",
    "    else:\n",
    "        return None\n",
    "\n",
    "def printNumberInEnglish(x):\n",
    "    outString = ''\n",
    "    if x < 0 or x > 999:\n",
    "        raise (INVALID_INPUT)\n",
    "    fixed = getConstants(x)\n",
    "    if fixed:\n",
    "        print(fixed)\n",
    "    else: \n",
    "        # get hundredth place \n",
    "        hundredth = int(x/100)\n",
    "        print(hundredth)\n",
    "        if hundredth > 0:\n",
    "            outString = (preDefined[hundredth] + ' hundred ') \n",
    "            tenth = int((x - hundredth*100)/10)\n",
    "        else:\n",
    "            tenth = int(x/10)\n",
    "        print(outString, tenth)\n",
    "        if tenth > 0:\n",
    "            outString = outString + printNumberInEnglish(x-hundredth*100):\n",
    "        remaining = x - (x/100)*100 - ((x//100)/10)*10\n",
    "        outString = outString + preDefined[remaining]\n",
    "            \n",
    "    return outString\n",
    "        \n",
    "    \n",
    "print(printNumberInEnglish(323))"
   ]
  },
  {
   "cell_type": "code",
   "execution_count": null,
   "metadata": {},
   "outputs": [],
   "source": []
  }
 ],
 "metadata": {
  "kernelspec": {
   "display_name": "Python 3",
   "language": "python",
   "name": "python3"
  },
  "language_info": {
   "codemirror_mode": {
    "name": "ipython",
    "version": 3
   },
   "file_extension": ".py",
   "mimetype": "text/x-python",
   "name": "python",
   "nbconvert_exporter": "python",
   "pygments_lexer": "ipython3",
   "version": "3.7.6"
  }
 },
 "nbformat": 4,
 "nbformat_minor": 4
}

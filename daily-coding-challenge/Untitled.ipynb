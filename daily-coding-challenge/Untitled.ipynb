{
 "cells": [
  {
   "cell_type": "markdown",
   "metadata": {},
   "source": [
    "July-07 \n",
    "The sequence [0, 1, ..., N] has been jumbled, and the only clue you have for its order is an array representing whether each number is larger or smaller than the last. Given this information, reconstruct an array that is consistent with it. For example, given [None, +, +, -, +], you could return [1, 2, 3, 0, 4]."
   ]
  },
  {
   "cell_type": "code",
   "execution_count": 12,
   "metadata": {},
   "outputs": [
    {
     "name": "stdout",
     "output_type": "stream",
     "text": [
      "[0, 1, 2, 3, 4]\n",
      "None\n",
      "+\n",
      "+\n",
      "-\n",
      "+\n"
     ]
    }
   ],
   "source": [
    "inpArray = [1,2,3,4,0]\n",
    "pattern = [None, '+', '+', '-', '+']\n",
    "\n",
    "# check that number of elements in inpArray and pattern are same else throw error \n",
    "\n",
    "if len(inpArray) != len(pattern):\n",
    "    print('Error')\n",
    "\n",
    "def printPattern(inpArray, pattern):\n",
    "    inpArray.sort()\n",
    "    print(inpArray)\n",
    "    outArray = [len(inpArray)]\n",
    "    outArray[0] = inpArray[0]\n",
    "    for index,value in enumerate(pattern):\n",
    "        if p == '-':\n",
    "            outArray[index] = \n",
    "    \n",
    "printPattern(inpArray, pattern)\n",
    "    "
   ]
  }
 ],
 "metadata": {
  "kernelspec": {
   "display_name": "Python 3",
   "language": "python",
   "name": "python3"
  },
  "language_info": {
   "codemirror_mode": {
    "name": "ipython",
    "version": 3
   },
   "file_extension": ".py",
   "mimetype": "text/x-python",
   "name": "python",
   "nbconvert_exporter": "python",
   "pygments_lexer": "ipython3",
   "version": "3.7.6"
  }
 },
 "nbformat": 4,
 "nbformat_minor": 4
}

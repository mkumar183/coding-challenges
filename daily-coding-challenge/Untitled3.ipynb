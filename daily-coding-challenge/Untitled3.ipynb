{
 "cells": [
  {
   "cell_type": "markdown",
   "metadata": {},
   "source": [
    "Given an integer n, find the next biggest integer with the same number of 1-bits on. For example, given the number 6 (0110 in binary), return 9 (1001)."
   ]
  },
  {
   "cell_type": "markdown",
   "metadata": {},
   "source": [
    "1. find number of 1 bits in this number (input: number output: number of 1 bits)\n",
    "2. find minimum number greater than this having same number of bits (input: number of 1 bit, number output: next number)\n",
    "\n",
    "\n",
    "step 1: find number of 1 bits: \n",
    "- if number if odd then last digit is 1 else its 0\n",
    "- keep dividing number by 2. recursively call the same function until number is < 2 and keep adding digits or keep counting the number of digits. \n",
    "\n",
    "step 2: get_next_number(number_of_bits, x): \n",
    "brute force: \n",
    "increment x by 1. call get_one_bit_counts(x): if output matches this is the answer \n",
    "smarter method: \n",
    "\n"
   ]
  },
  {
   "cell_type": "code",
   "execution_count": null,
   "metadata": {},
   "outputs": [],
   "source": [
    "global number_of_bits = 0\n",
    "def get_one_bit_counts(x):\n",
    "    if x // 2 == 0:\n",
    "        number_of_bits = number_of_bits + 1\n",
    "    if x / 2 > 2:\n",
    "        get_one_bit_counts(x/2)        "
   ]
  }
 ],
 "metadata": {
  "kernelspec": {
   "display_name": "Python 3",
   "language": "python",
   "name": "python3"
  },
  "language_info": {
   "codemirror_mode": {
    "name": "ipython",
    "version": 3
   },
   "file_extension": ".py",
   "mimetype": "text/x-python",
   "name": "python",
   "nbconvert_exporter": "python",
   "pygments_lexer": "ipython3",
   "version": "3.7.6"
  }
 },
 "nbformat": 4,
 "nbformat_minor": 4
}

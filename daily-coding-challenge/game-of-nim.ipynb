{
 "cells": [
  {
   "cell_type": "markdown",
   "metadata": {},
   "source": [
    "The game of Nim is played as follows. Starting with three heaps, each containing a variable number of items, two players take turns removing one or more items from a single pile. The player who eventually is forced to take the last stone loses. For example, if the initial heap sizes are 3, 4, and 5, a game could be played as shown below:\n",
    "\n",
    "  A  |  B  |  C\n",
    "-----------------\n",
    "  3  |  4  |  5\n",
    "  3  |  1  |  5\n",
    "  3  |  1  |  3\n",
    "  0  |  1  |  3\n",
    "  0  |  1  |  0\n",
    "  0  |  0  |  0 \n",
    "In other words, to start, the first player takes three items from pile B. The second player responds by removing two stones from pile C. The game continues in this way until player one takes last stone and loses.\n",
    "\n",
    "Given a list of non-zero starting values [a, b, c], and assuming optimal play, determine whether the first player has a forced win.\n",
    "\n",
    "2 players game\n",
    "Each player must take at least one item out. \n",
    "player can take multiple items so long as these come from same pile. \n",
    "There can be any number of piles. "
   ]
  },
  {
   "cell_type": "code",
   "execution_count": 24,
   "metadata": {},
   "outputs": [
    {
     "name": "stdout",
     "output_type": "stream",
     "text": [
      "10\n",
      "[2, 3, 5]\n",
      "[0, 1, 2]\n",
      "selectedPile: 0\n",
      "selectedPile: 0\n",
      "piles  [1, 3, 5]\n",
      "player 2\n",
      "[1, 3, 5]\n",
      "[1, 2]\n",
      "selectedPile: 1\n",
      "selectedPile: 1\n",
      "piles  [1, 2, 5]\n",
      "player 1\n",
      "[1, 2, 5]\n",
      "[1, 2]\n",
      "selectedPile: 2\n",
      "selectedPile: 2\n",
      "piles  [1, 2, 2]\n",
      "player 2\n",
      "[1, 2, 2]\n",
      "[1, 2]\n",
      "selectedPile: 1\n",
      "selectedPile: 1\n",
      "piles  [1, 1, 2]\n",
      "player 1\n",
      "[1, 1, 2]\n",
      "[2]\n",
      "selectedPile: 2\n",
      "selectedPile: 2\n",
      "piles  [1, 1, 1]\n",
      "player 2\n",
      "[1, 1, 1]\n",
      "[]\n"
     ]
    },
    {
     "ename": "IndexError",
     "evalue": "Cannot choose from an empty sequence",
     "output_type": "error",
     "traceback": [
      "\u001b[0;31m---------------------------------------------------------------------------\u001b[0m",
      "\u001b[0;31mIndexError\u001b[0m                                Traceback (most recent call last)",
      "\u001b[0;32m<ipython-input-24-4601c9deeef0>\u001b[0m in \u001b[0;36m<module>\u001b[0;34m\u001b[0m\n\u001b[1;32m     41\u001b[0m         \u001b[0mprint\u001b[0m\u001b[0;34m(\u001b[0m\u001b[0;34m'player'\u001b[0m\u001b[0;34m,\u001b[0m \u001b[0mplayer\u001b[0m\u001b[0;34m)\u001b[0m\u001b[0;34m\u001b[0m\u001b[0;34m\u001b[0m\u001b[0m\n\u001b[1;32m     42\u001b[0m \u001b[0;34m\u001b[0m\u001b[0m\n\u001b[0;32m---> 43\u001b[0;31m \u001b[0mgameOfNims\u001b[0m\u001b[0;34m(\u001b[0m\u001b[0mpiles\u001b[0m\u001b[0;34m)\u001b[0m\u001b[0;34m\u001b[0m\u001b[0;34m\u001b[0m\u001b[0m\n\u001b[0m",
      "\u001b[0;32m<ipython-input-24-4601c9deeef0>\u001b[0m in \u001b[0;36mgameOfNims\u001b[0;34m(piles)\u001b[0m\n\u001b[1;32m     37\u001b[0m     \u001b[0;32mwhile\u001b[0m\u001b[0;34m(\u001b[0m\u001b[0msum\u001b[0m\u001b[0;34m(\u001b[0m\u001b[0mpiles\u001b[0m\u001b[0;34m)\u001b[0m \u001b[0;34m>\u001b[0m \u001b[0;36m0\u001b[0m\u001b[0;34m)\u001b[0m\u001b[0;34m:\u001b[0m\u001b[0;34m\u001b[0m\u001b[0;34m\u001b[0m\u001b[0m\n\u001b[1;32m     38\u001b[0m         \u001b[0mplayer\u001b[0m \u001b[0;34m=\u001b[0m \u001b[0;36m2\u001b[0m \u001b[0;32mif\u001b[0m \u001b[0mplayer\u001b[0m \u001b[0;34m==\u001b[0m \u001b[0;36m1\u001b[0m \u001b[0;32melse\u001b[0m \u001b[0;36m1\u001b[0m\u001b[0;34m\u001b[0m\u001b[0;34m\u001b[0m\u001b[0m\n\u001b[0;32m---> 39\u001b[0;31m         \u001b[0mpiles\u001b[0m \u001b[0;34m=\u001b[0m \u001b[0mplay\u001b[0m\u001b[0;34m(\u001b[0m\u001b[0mpiles\u001b[0m\u001b[0;34m)\u001b[0m\u001b[0;34m\u001b[0m\u001b[0;34m\u001b[0m\u001b[0m\n\u001b[0m\u001b[1;32m     40\u001b[0m         \u001b[0mprint\u001b[0m\u001b[0;34m(\u001b[0m\u001b[0;34m'piles '\u001b[0m\u001b[0;34m,\u001b[0m \u001b[0mpiles\u001b[0m\u001b[0;34m)\u001b[0m\u001b[0;34m\u001b[0m\u001b[0;34m\u001b[0m\u001b[0m\n\u001b[1;32m     41\u001b[0m         \u001b[0mprint\u001b[0m\u001b[0;34m(\u001b[0m\u001b[0;34m'player'\u001b[0m\u001b[0;34m,\u001b[0m \u001b[0mplayer\u001b[0m\u001b[0;34m)\u001b[0m\u001b[0;34m\u001b[0m\u001b[0;34m\u001b[0m\u001b[0m\n",
      "\u001b[0;32m<ipython-input-24-4601c9deeef0>\u001b[0m in \u001b[0;36mplay\u001b[0;34m(piles)\u001b[0m\n\u001b[1;32m     21\u001b[0m     \u001b[0mprint\u001b[0m\u001b[0;34m(\u001b[0m\u001b[0mnonZeroPositions\u001b[0m\u001b[0;34m)\u001b[0m\u001b[0;34m\u001b[0m\u001b[0;34m\u001b[0m\u001b[0m\n\u001b[1;32m     22\u001b[0m     \u001b[0;31m# TODO: use choice function to select one of those piles\u001b[0m\u001b[0;34m\u001b[0m\u001b[0;34m\u001b[0m\u001b[0;34m\u001b[0m\u001b[0m\n\u001b[0;32m---> 23\u001b[0;31m     \u001b[0mselectedPile\u001b[0m \u001b[0;34m=\u001b[0m \u001b[0mrandom\u001b[0m\u001b[0;34m.\u001b[0m\u001b[0mchoice\u001b[0m\u001b[0;34m(\u001b[0m\u001b[0mnonZeroPositions\u001b[0m\u001b[0;34m)\u001b[0m\u001b[0;34m\u001b[0m\u001b[0;34m\u001b[0m\u001b[0m\n\u001b[0m\u001b[1;32m     24\u001b[0m     \u001b[0mprint\u001b[0m\u001b[0;34m(\u001b[0m\u001b[0;34m'selectedPile:'\u001b[0m \u001b[0;34m,\u001b[0m \u001b[0mselectedPile\u001b[0m\u001b[0;34m)\u001b[0m\u001b[0;34m\u001b[0m\u001b[0;34m\u001b[0m\u001b[0m\n\u001b[1;32m     25\u001b[0m     \u001b[0;32mif\u001b[0m \u001b[0mnewPiles\u001b[0m\u001b[0;34m[\u001b[0m\u001b[0mselectedPile\u001b[0m\u001b[0;34m]\u001b[0m \u001b[0;34m>\u001b[0m \u001b[0;36m2\u001b[0m\u001b[0;34m:\u001b[0m\u001b[0;34m\u001b[0m\u001b[0;34m\u001b[0m\u001b[0m\n",
      "\u001b[0;32m~/opt/anaconda3/lib/python3.7/random.py\u001b[0m in \u001b[0;36mchoice\u001b[0;34m(self, seq)\u001b[0m\n\u001b[1;32m    259\u001b[0m             \u001b[0mi\u001b[0m \u001b[0;34m=\u001b[0m \u001b[0mself\u001b[0m\u001b[0;34m.\u001b[0m\u001b[0m_randbelow\u001b[0m\u001b[0;34m(\u001b[0m\u001b[0mlen\u001b[0m\u001b[0;34m(\u001b[0m\u001b[0mseq\u001b[0m\u001b[0;34m)\u001b[0m\u001b[0;34m)\u001b[0m\u001b[0;34m\u001b[0m\u001b[0;34m\u001b[0m\u001b[0m\n\u001b[1;32m    260\u001b[0m         \u001b[0;32mexcept\u001b[0m \u001b[0mValueError\u001b[0m\u001b[0;34m:\u001b[0m\u001b[0;34m\u001b[0m\u001b[0;34m\u001b[0m\u001b[0m\n\u001b[0;32m--> 261\u001b[0;31m             \u001b[0;32mraise\u001b[0m \u001b[0mIndexError\u001b[0m\u001b[0;34m(\u001b[0m\u001b[0;34m'Cannot choose from an empty sequence'\u001b[0m\u001b[0;34m)\u001b[0m \u001b[0;32mfrom\u001b[0m \u001b[0;32mNone\u001b[0m\u001b[0;34m\u001b[0m\u001b[0;34m\u001b[0m\u001b[0m\n\u001b[0m\u001b[1;32m    262\u001b[0m         \u001b[0;32mreturn\u001b[0m \u001b[0mseq\u001b[0m\u001b[0;34m[\u001b[0m\u001b[0mi\u001b[0m\u001b[0;34m]\u001b[0m\u001b[0;34m\u001b[0m\u001b[0;34m\u001b[0m\u001b[0m\n\u001b[1;32m    263\u001b[0m \u001b[0;34m\u001b[0m\u001b[0m\n",
      "\u001b[0;31mIndexError\u001b[0m: Cannot choose from an empty sequence"
     ]
    }
   ],
   "source": [
    "piles = [2,3,5]\n",
    "\n",
    "print(sum(piles))\n",
    "# steps: player 1 turn: \n",
    "# player 2 turn : \n",
    "# in a turn what to do: randomly select a pile: pick >0 items randomly\n",
    "# until only 1 item is left in only one pile \n",
    "# run it 1000 times and find out who won\n",
    "\n",
    "import random\n",
    "from copy import deepcopy\n",
    "def play(piles):\n",
    "    newPiles = []\n",
    "    newPiles = deepcopy(piles)\n",
    "    print(newPiles)\n",
    "    # TODO: use map function to find piles that have non zero values \n",
    "    nonZeroPositions= []\n",
    "    for index,value in enumerate(newPiles):\n",
    "        if value > 1:\n",
    "            nonZeroPositions.append(index)\n",
    "    print(nonZeroPositions)\n",
    "    # TODO: use choice function to select one of those piles \n",
    "    selectedPile = random.choice(nonZeroPositions)\n",
    "    print('selectedPile:' , selectedPile)\n",
    "    if newPiles[selectedPile] > 2:\n",
    "        pickItems = random.randrange(1,newPiles[selectedPile]-1,1)\n",
    "    else:\n",
    "        pickItems = 1\n",
    "    newPiles[selectedPile] = newPiles[selectedPile] - pickItems\n",
    "    print('selectedPile:' , selectedPile)\n",
    "    return newPiles\n",
    "    \n",
    "\n",
    "\n",
    "def gameOfNims(piles):\n",
    "    player = 1\n",
    "    while(sum(piles) > 0):\n",
    "        player = 2 if player == 1 else 1\n",
    "        piles = play(piles)\n",
    "        print('piles ', piles)\n",
    "        print('player', player)\n",
    "\n",
    "gameOfNims(piles)        "
   ]
  },
  {
   "cell_type": "code",
   "execution_count": null,
   "metadata": {},
   "outputs": [],
   "source": []
  },
  {
   "cell_type": "code",
   "execution_count": 1,
   "metadata": {},
   "outputs": [
    {
     "name": "stdout",
     "output_type": "stream",
     "text": [
      "10\n"
     ]
    }
   ],
   "source": [
    "piles = [2,3,5]\n",
    "\n",
    "print(sum(piles))"
   ]
  }
 ],
 "metadata": {
  "kernelspec": {
   "display_name": "Python 3",
   "language": "python",
   "name": "python3"
  },
  "language_info": {
   "codemirror_mode": {
    "name": "ipython",
    "version": 3
   },
   "file_extension": ".py",
   "mimetype": "text/x-python",
   "name": "python",
   "nbconvert_exporter": "python",
   "pygments_lexer": "ipython3",
   "version": "3.7.6"
  }
 },
 "nbformat": 4,
 "nbformat_minor": 4
}

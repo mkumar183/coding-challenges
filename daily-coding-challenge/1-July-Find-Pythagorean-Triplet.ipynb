{
 "cells": [
  {
   "cell_type": "markdown",
   "metadata": {},
   "source": [
    "Given an array of integers, determine whether it contains a Pythagorean triplet. Recall that a Pythogorean triplet (a, b, c) is defined by the equation a2+ b2= c2."
   ]
  },
  {
   "cell_type": "markdown",
   "metadata": {},
   "source": [
    "logic thinking: \n",
    "if a*a + b*b = c*c then return true\n",
    "brute force: \n",
    "for each element in array: take all possible combinations of two numbers in remaining array. \n",
    "write a function that returns all possible combinations of 2 elements in input array. \n",
    "\n",
    "Optimisation:\n",
    "find distinct combinations of 3 elements in any array and perform check as above."
   ]
  },
  {
   "cell_type": "code",
   "execution_count": 49,
   "metadata": {},
   "outputs": [
    {
     "data": {
      "text/plain": [
       "False"
      ]
     },
     "execution_count": 49,
     "metadata": {},
     "output_type": "execute_result"
    }
   ],
   "source": [
    "def getCombinationOfTwo(listOfElements):\n",
    "    output = []\n",
    "    for index,FirstElement in enumerate(listOfElements):\n",
    "        for SecondElement in listOfElements[index+1:]:\n",
    "            output.append([FirstElement,SecondElement])\n",
    "    return output\n",
    "\n",
    "def isPythaGorean(listOfElements):\n",
    "    if len(listOfElements) != 3:\n",
    "        raise 'INVALID'\n",
    "\n",
    "    c = max(listOfElements)\n",
    "    listOfElements.remove(c)\n",
    "    return(True if c*c == listOfElements[0]**2 + listOfElements[1]**2 else False)\n",
    "\n",
    "\n",
    "def findPythogoreanTriplet(listOfElements):\n",
    "    for index,element in enumerate(listOfElements):\n",
    "        combOfTwos = getCombinationOfTwo(listOfElements[index+1:]);\n",
    "        for doublet in combOfTwos:\n",
    "            doublet.append(element)\n",
    "            if isPythaGorean(doublet):\n",
    "                return True\n",
    "    return False\n",
    "        \n",
    "        \n",
    "findPythogoreanTriplet([1,2,3,4,6])"
   ]
  }
 ],
 "metadata": {
  "kernelspec": {
   "display_name": "Python 3",
   "language": "python",
   "name": "python3"
  },
  "language_info": {
   "codemirror_mode": {
    "name": "ipython",
    "version": 3
   },
   "file_extension": ".py",
   "mimetype": "text/x-python",
   "name": "python",
   "nbconvert_exporter": "python",
   "pygments_lexer": "ipython3",
   "version": "3.7.6"
  }
 },
 "nbformat": 4,
 "nbformat_minor": 4
}

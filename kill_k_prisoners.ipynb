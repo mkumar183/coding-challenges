{
 "cells": [
  {
   "cell_type": "markdown",
   "metadata": {},
   "source": [
    "##### This problem was asked by Bloomberg.\n",
    "``There are N prisoners standing in a circle, waiting to be executed. The executions are carried out starting with the kth person, and removing every successive kth person going clockwise until there is no one left.\n",
    "Given N and k, write an algorithm to determine where a prisoner should stand in order to be the last survivor.\n",
    "For example, if N = 5 and k = 2, the order of executions would be [2, 4, 1, 5, 3], so you should return 3.\n",
    "Bonus: Find an O(log N) solution if k = 2.``"
   ]
  },
  {
   "cell_type": "code",
   "execution_count": 97,
   "metadata": {},
   "outputs": [
    {
     "name": "stdout",
     "output_type": "stream",
     "text": [
      "[0, 1, 2, 3, 4, 5, 6, 7, 8, 9, 10, 11, 12]\n",
      "4 13\n",
      "arr: [0, 1, 2, 3, 5, 6, 7, 8, 9, 10, 11, 12]\n",
      "7 12\n",
      "arr: [0, 1, 2, 3, 5, 6, 7, 9, 10, 11, 12]\n",
      "10 11\n",
      "arr: [0, 1, 2, 3, 5, 6, 7, 9, 10, 11]\n",
      "3 10\n",
      "arr: [0, 1, 2, 5, 6, 7, 9, 10, 11]\n",
      "6 9\n",
      "arr: [0, 1, 2, 5, 6, 7, 10, 11]\n",
      "1 8\n",
      "arr: [0, 2, 5, 6, 7, 10, 11]\n",
      "4 7\n",
      "arr: [0, 2, 5, 6, 10, 11]\n",
      "1 6\n",
      "arr: [0, 5, 6, 10, 11]\n",
      "4 5\n",
      "arr: [0, 5, 6, 10]\n",
      "3 4\n",
      "arr: [0, 5, 6]\n",
      "0 3\n",
      "arr: [5, 6]\n",
      "1 2\n",
      "arr: [5]\n",
      "12\n"
     ]
    }
   ],
   "source": [
    "n = 13\n",
    "arr = [i for i in range(n)]\n",
    "print(arr)\n",
    "k = 4\n",
    "pos = k\n",
    "o = 0\n",
    "while(len(arr) > 1):\n",
    "    o = o + 1\n",
    "    print(pos, len(arr))\n",
    "    arr.remove(arr[pos]) \n",
    "    print('arr:', arr)\n",
    "    pos = pos+k-1\n",
    "    while(pos >= len(arr)):\n",
    "        pos = pos - len(arr)\n",
    "print(o)"
   ]
  },
  {
   "cell_type": "code",
   "execution_count": 102,
   "metadata": {},
   "outputs": [
    {
     "name": "stdout",
     "output_type": "stream",
     "text": [
      "12\n"
     ]
    }
   ],
   "source": [
    "import numpy as np\n",
    "n = 13\n",
    "k = 4\n",
    "\n",
    "arr = np.arange(n) #initialize array\n",
    "pointer = k #initialize pointer absolute position starting 1 (not 0)\n",
    "while(k <= arr.size):\n",
    "    rem = np.arange((arr.size-pointer)//k+1)*k + pointer -1\n",
    "    pointer = k - (arr.size - (rem[-1]+1)) # move pointer by rotating from last element before delete\n",
    "    arr = np.delete(arr,rem,axis=0)\n",
    "print(arr[arr.size-1 if pointer == 1 else pointer-1])"
   ]
  }
 ],
 "metadata": {
  "kernelspec": {
   "display_name": "Python 3",
   "language": "python",
   "name": "python3"
  },
  "language_info": {
   "codemirror_mode": {
    "name": "ipython",
    "version": 3
   },
   "file_extension": ".py",
   "mimetype": "text/x-python",
   "name": "python",
   "nbconvert_exporter": "python",
   "pygments_lexer": "ipython3",
   "version": "3.7.6"
  }
 },
 "nbformat": 4,
 "nbformat_minor": 4
}

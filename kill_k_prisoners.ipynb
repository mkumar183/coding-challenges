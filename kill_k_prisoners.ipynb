{
 "cells": [
  {
   "cell_type": "markdown",
   "metadata": {},
   "source": [
    "##### This problem was asked by Bloomberg.\n",
    "``There are N prisoners standing in a circle, waiting to be executed. The executions are carried out starting with the kth person, and removing every successive kth person going clockwise until there is no one left.\n",
    "Given N and k, write an algorithm to determine where a prisoner should stand in order to be the last survivor.\n",
    "For example, if N = 5 and k = 2, the order of executions would be [2, 4, 1, 5, 3], so you should return 3.\n",
    "Bonus: Find an O(log N) solution if k = 2.``"
   ]
  },
  {
   "cell_type": "code",
   "execution_count": 23,
   "metadata": {},
   "outputs": [
    {
     "name": "stdout",
     "output_type": "stream",
     "text": [
      "[0, 1, 2, 3, 4, 5, 6, 7, 8, 9, 10, 11, 12, 13, 14, 15, 16, 17, 18, 19]\n",
      "4 20\n",
      "[0, 1, 2, 3, 5, 6, 7, 8, 9, 10, 11, 12, 13, 14, 15, 16, 17, 18, 19]\n",
      "7 19\n",
      "[0, 1, 2, 3, 5, 6, 7, 9, 10, 11, 12, 13, 14, 15, 16, 17, 18, 19]\n",
      "10 18\n",
      "[0, 1, 2, 3, 5, 6, 7, 9, 10, 11, 13, 14, 15, 16, 17, 18, 19]\n",
      "13 17\n",
      "[0, 1, 2, 3, 5, 6, 7, 9, 10, 11, 13, 14, 15, 17, 18, 19]\n",
      "0 16\n",
      "[1, 2, 3, 5, 6, 7, 9, 10, 11, 13, 14, 15, 17, 18, 19]\n",
      "3 15\n",
      "[1, 2, 3, 6, 7, 9, 10, 11, 13, 14, 15, 17, 18, 19]\n",
      "6 14\n",
      "[1, 2, 3, 6, 7, 9, 11, 13, 14, 15, 17, 18, 19]\n",
      "9 13\n",
      "[1, 2, 3, 6, 7, 9, 11, 13, 14, 17, 18, 19]\n",
      "0 12\n",
      "[2, 3, 6, 7, 9, 11, 13, 14, 17, 18, 19]\n",
      "3 11\n",
      "[2, 3, 6, 9, 11, 13, 14, 17, 18, 19]\n",
      "6 10\n",
      "[2, 3, 6, 9, 11, 13, 17, 18, 19]\n",
      "0 9\n",
      "[3, 6, 9, 11, 13, 17, 18, 19]\n",
      "3 8\n",
      "[3, 6, 9, 13, 17, 18, 19]\n",
      "6 7\n",
      "[3, 6, 9, 13, 17, 18]\n",
      "3 6\n",
      "[3, 6, 9, 17, 18]\n",
      "1 5\n",
      "[3, 9, 17, 18]\n",
      "0 4\n",
      "[9, 17, 18]\n",
      "0 3\n",
      "[17, 18]\n",
      "1 2\n",
      "[17]\n",
      "19\n"
     ]
    }
   ],
   "source": [
    "n = 20\n",
    "arr = [i for i in range(n)]\n",
    "print(arr)\n",
    "k = 4\n",
    "pos = k\n",
    "o = 0\n",
    "while(len(arr) > 1):\n",
    "    o = o + 1\n",
    "    print(pos, len(arr))\n",
    "    arr.remove(arr[pos]) \n",
    "    print(arr)\n",
    "    pos = pos+k-1\n",
    "    while(pos >= len(arr)):\n",
    "        pos = pos - len(arr)\n",
    "print(o)"
   ]
  },
  {
   "cell_type": "code",
   "execution_count": null,
   "metadata": {},
   "outputs": [],
   "source": []
  }
 ],
 "metadata": {
  "kernelspec": {
   "display_name": "Python 3",
   "language": "python",
   "name": "python3"
  },
  "language_info": {
   "codemirror_mode": {
    "name": "ipython",
    "version": 3
   },
   "file_extension": ".py",
   "mimetype": "text/x-python",
   "name": "python",
   "nbconvert_exporter": "python",
   "pygments_lexer": "ipython3",
   "version": "3.7.6"
  }
 },
 "nbformat": 4,
 "nbformat_minor": 4
}

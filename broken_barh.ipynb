{
 "cells": [
  {
   "cell_type": "code",
   "execution_count": null,
   "metadata": {},
   "outputs": [],
   "source": [
    "%matplotlib inline"
   ]
  },
  {
   "cell_type": "markdown",
   "metadata": {},
   "source": [
    "\n",
    "# Broken Barh\n",
    "\n",
    "\n",
    "Make a \"broken\" horizontal bar plot, i.e., one with gaps\n"
   ]
  },
  {
   "cell_type": "code",
   "execution_count": 20,
   "metadata": {},
   "outputs": [
    {
     "data": {
      "image/png": "[encoded data removed]",
      "text/plain": [
       "<Figure size 432x288 with 1 Axes>"
      ]
     },
     "metadata": {
      "needs_background": "light"
     },
     "output_type": "display_data"
    }
   ],
   "source": [
    "import matplotlib.pyplot as plt\n",
    "\n",
    "fig, ax = plt.subplots()\n",
    "ax.broken_barh([(110, 40), (180, 10)], (5, 9), facecolors='tab:blue')\n",
    "ax.broken_barh([(10, 50), (40, 20), (130, 10)], (17.5, 5),\n",
    "               facecolors=('tab:orange', 'tab:green', 'tab:red'))\n",
    "ax.set_ylim(0, 35)\n",
    "ax.set_xlim(0, 200)\n",
    "ax.set_xlabel('seconds since start')\n",
    "ax.set_yticks([10, 20])\n",
    "ax.set_yticklabels(['Bill', 'Jim'])\n",
    "ax.grid(True)\n",
    "ax.annotate('race interrupted', (61, 25),\n",
    "            xytext=(0.8, 0.9), textcoords='axes fraction',\n",
    "            arrowprops=dict(facecolor='black', shrink=0.05),\n",
    "            fontsize=16,\n",
    "            horizontalalignment='right', verticalalignment='top')\n",
    "\n",
    "plt.show()"
   ]
  }
 ],
 "metadata": {
  "kernelspec": {
   "display_name": "Python 3",
   "language": "python",
   "name": "python3"
  },
  "language_info": {
   "codemirror_mode": {
    "name": "ipython",
    "version": 3
   },
   "file_extension": ".py",
   "mimetype": "text/x-python",
   "name": "python",
   "nbconvert_exporter": "python",
   "pygments_lexer": "ipython3",
   "version": "3.7.3"
  }
 },
 "nbformat": 4,
 "nbformat_minor": 1
}

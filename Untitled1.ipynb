{
 "cells": [
  {
   "cell_type": "code",
   "execution_count": null,
   "metadata": {},
   "outputs": [],
   "source": [
    "# Read the input as an integer\n",
    "n = int(input())\n",
    "\n",
    "# Import the reduce() function\n",
    "from functools import reduce\n",
    "l = []\n",
    "\n",
    "def func1(n1):\n",
    "    if(n1>0):\n",
    "        l.append(n1)\n",
    "        func1(n1-1)\n",
    "    elif(n1==0):\n",
    "        l.append(1)\n",
    "    else:\n",
    "        print(\"Don't Come Near Me!! :P\")\n",
    "    return l\n",
    "\n",
    "faclist = func1(n)\n",
    "\n",
    "print (faclist)\n",
    "print (faclist2)\n",
    "Factorial = reduce(lambda x,y: x*y, faclist)\n",
    "print(Factorial)\n",
    "\n",
    "#n = int(input())\n",
    "print( reduce(lambda x,y: x*y, [i for i in range(1,int(input())+1)]))\n"
   ]
  }
 ],
 "metadata": {
  "kernelspec": {
   "display_name": "Python 3",
   "language": "python",
   "name": "python3"
  },
  "language_info": {
   "codemirror_mode": {
    "name": "ipython",
    "version": 3
   },
   "file_extension": ".py",
   "mimetype": "text/x-python",
   "name": "python",
   "nbconvert_exporter": "python",
   "pygments_lexer": "ipython3",
   "version": "3.7.3"
  }
 },
 "nbformat": 4,
 "nbformat_minor": 2
}

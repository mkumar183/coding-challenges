{
 "cells": [
  {
   "cell_type": "code",
   "execution_count": 182,
   "metadata": {},
   "outputs": [
    {
     "name": "stdout",
     "output_type": "stream",
     "text": [
      "{'1': {'color': ['red', 'blue'], 'cost': [4, 2]}, '2': {'color': ['blue', 'purple'], 'cost': [3, 5]}, '3': {'color': ['white', 'blue'], 'cost': [5, 4]}, '4': {'color': ['white', 'blue', 'red'], 'cost': [15, 30, 3]}}\n",
      "[(['red', 'blue'], [4, 2]), (['blue', 'purple'], [3, 1]), (['white', 'yellow'], [5, 4])]\n",
      "out1 [(2, 'blue'), (5, 'purple'), (4, 'blue'), (3, 'red')]\n",
      "out2 [(4, 'red'), (3, 'blue'), (5, 'white'), (3, 'red')]\n",
      "final [(2, 'blue'), (5, 'purple'), (4, 'blue'), (3, 'red')]\n"
     ]
    }
   ],
   "source": [
    "houses = {'1': {'color': ['red','blue'], 'cost': [4,2]},\n",
    "          '2': {'color': ['blue','purple'], 'cost':[3,5]},\n",
    "          '3': {'color': ['white','blue'], 'cost':[5,4]},\n",
    "          '4': {'color': ['white','blue','red'], 'cost':[15,30,3]}\n",
    "         }\n",
    "\n",
    "#house red   blue    purple  yellow \n",
    "#1      1     3        1       2     = 1 2 1 \n",
    "#2      2     3        5       4     = 2 2 3\n",
    "#3      3     7        4       4     = 3 4 3 \n",
    "#if difference in cost of -1 and +1 is lesser than 0th element then change +1 and -1 else change middle \n",
    "\n",
    "houses2 = [(['red','blue'],[4,2]), (['blue','purple'],[3,1]), (['white','yellow'],[5,4] ) ]\n",
    "\n",
    "print (houses)\n",
    "print (houses2)\n",
    "\n",
    "def getMinCost (index, exclude_color = None):\n",
    "    min1 = 9999999999\n",
    "    color1 = houses[index]['color'][0]\n",
    "    if index == '-1':\n",
    "        return (None,None) \n",
    "    for ix, cost in enumerate(houses[index]['cost']):\n",
    "        #print('ix, cost exclude_color houses[index][color][ix],min1', ix, cost, exclude_color, houses[index]['color'][ix],min1)\n",
    "        if exclude_color:\n",
    "            if  exclude_color != houses[index]['color'][ix]:\n",
    "                #print('exlcude_color', exclude_color,houses[index]['color'][ix],cost,min1)\n",
    "                color1 = houses[index]['color'][ix] if cost < min1 else color1\n",
    "                min1 = cost if cost < min1 else min1            \n",
    "        else:\n",
    "            #print('not exlcude_color min1 color1', min1, color1, ix, cost, houses[index]['color'][ix] )\n",
    "            color1 = houses[index]['color'][ix] if cost < min1 else color1\n",
    "            min1 = cost if cost < min1 else min1\n",
    "                        \n",
    "    return (min1,color1)\n",
    "\n",
    "from functools import reduce\n",
    "prev_color, out1 = None , []\n",
    "for index,house in houses.items():\n",
    "    cost_house = getMinCost(index,prev_color)\n",
    "    prev_color = cost_house[1]\n",
    "    out1.append(cost_house)\n",
    "\n",
    "print ('out1', out1)\n",
    "prev_color = getMinCost('1')[1]\n",
    "out2 = []\n",
    "for index,house in houses.items():\n",
    "    cost_house = getMinCost(index,prev_color)\n",
    "    prev_color = cost_house[1]\n",
    "    out2.append(cost_house)\n",
    "\n",
    "print ('out2', out2)\n",
    "out1_sum = (sum((list(map(lambda x: x[0], out1)))))\n",
    "out2_sum = (sum(list(map(lambda x: x[0], out2))))\n",
    "print ('final', out1 if out1_sum < out2_sum else out2)"
   ]
  }
 ],
 "metadata": {
  "kernelspec": {
   "display_name": "Python 3",
   "language": "python",
   "name": "python3"
  },
  "language_info": {
   "codemirror_mode": {
    "name": "ipython",
    "version": 3
   },
   "file_extension": ".py",
   "mimetype": "text/x-python",
   "name": "python",
   "nbconvert_exporter": "python",
   "pygments_lexer": "ipython3",
   "version": "3.7.3"
  }
 },
 "nbformat": 4,
 "nbformat_minor": 2
}

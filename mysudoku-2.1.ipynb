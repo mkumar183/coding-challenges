{
 "cells": [
  {
   "cell_type": "code",
   "execution_count": 9,
   "metadata": {
    "scrolled": true
   },
   "outputs": [
    {
     "name": "stdout",
     "output_type": "stream",
     "text": [
      "empty cells:  [(0, 1), (0, 4), (0, 7), (0, 8), (1, 2), (1, 3), (1, 4), (1, 5), (1, 6), (1, 7), (1, 8), (2, 0), (2, 3), (2, 4), (2, 5), (2, 6), (3, 0), (3, 1), (3, 3), (3, 5), (3, 6), (3, 8), (4, 1), (4, 2), (4, 6), (4, 7), (5, 0), (5, 2), (5, 3), (5, 5), (5, 7), (5, 8), (6, 2), (6, 3), (6, 4), (6, 5), (6, 8), (7, 0), (7, 1), (7, 2), (7, 3), (7, 4), (7, 5), (7, 6), (8, 0), (8, 1), (8, 4), (8, 7), (8, 8)]\n",
      "trials_dict:  {(0, 1): {'possiblelist': [1, 9], 'traversed': []}, (0, 4): {'possiblelist': [2, 7], 'traversed': []}, (0, 7): {'possiblelist': [9, 2], 'traversed': []}, (0, 8): {'possiblelist': [9, 2, 7], 'traversed': []}, (1, 2): {'possiblelist': [1, 4, 9], 'traversed': []}, (1, 3): {'possiblelist': [1, 3, 4, 6, 7, 9], 'traversed': []}, (1, 4): {'possiblelist': [3, 4, 7], 'traversed': []}, (1, 5): {'possiblelist': [1, 4, 9, 7], 'traversed': []}, (1, 6): {'possiblelist': [8, 9, 7], 'traversed': []}, (1, 7): {'possiblelist': [9, 6], 'traversed': []}, (1, 8): {'possiblelist': [8, 9, 6, 7], 'traversed': []}, (2, 0): {'possiblelist': [4], 'traversed': []}, (2, 3): {'possiblelist': [9, 4, 6], 'traversed': []}, (2, 4): {'possiblelist': [2, 4], 'traversed': []}, (2, 5): {'possiblelist': [9, 2, 4], 'traversed': []}, (2, 6): {'possiblelist': [9, 5], 'traversed': []}, (3, 0): {'possiblelist': [2, 4, 6, 7], 'traversed': []}, (3, 1): {'possiblelist': [4, 6, 7], 'traversed': []}, (3, 3): {'possiblelist': [4, 7], 'traversed': []}, (3, 5): {'possiblelist': [2, 4, 5, 7], 'traversed': []}, (3, 6): {'possiblelist': [9, 7], 'traversed': []}, (3, 8): {'possiblelist': [9, 2, 7], 'traversed': []}, (4, 1): {'possiblelist': [1, 4, 7], 'traversed': []}, (4, 2): {'possiblelist': [1, 2, 4], 'traversed': []}, (4, 6): {'possiblelist': [1, 7], 'traversed': []}, (4, 7): {'possiblelist': [1, 2, 4], 'traversed': []}, (5, 0): {'possiblelist': [8, 2, 4, 7], 'traversed': []}, (5, 2): {'possiblelist': [8, 1, 2, 4], 'traversed': []}, (5, 3): {'possiblelist': [4, 7], 'traversed': []}, (5, 5): {'possiblelist': [2, 4, 7], 'traversed': []}, (5, 7): {'possiblelist': [1, 2, 4], 'traversed': []}, (5, 8): {'possiblelist': [2, 3, 7], 'traversed': []}, (6, 2): {'possiblelist': [8, 9, 4], 'traversed': []}, (6, 3): {'possiblelist': [9, 4, 7], 'traversed': []}, (6, 4): {'possiblelist': [8, 4, 7], 'traversed': []}, (6, 5): {'possiblelist': [9, 4, 7], 'traversed': []}, (6, 8): {'possiblelist': [8, 9, 6], 'traversed': []}, (7, 0): {'possiblelist': [8, 2, 6], 'traversed': []}, (7, 1): {'possiblelist': [9, 6], 'traversed': []}, (7, 2): {'possiblelist': [8, 9, 2], 'traversed': []}, (7, 3): {'possiblelist': [1, 3, 9], 'traversed': []}, (7, 4): {'possiblelist': [8, 3, 5], 'traversed': []}, (7, 5): {'possiblelist': [1, 5, 9], 'traversed': []}, (7, 6): {'possiblelist': [8, 1, 9], 'traversed': []}, (8, 0): {'possiblelist': [8, 4, 7], 'traversed': []}, (8, 1): {'possiblelist': [9, 4, 7], 'traversed': []}, (8, 4): {'possiblelist': [8, 4, 7], 'traversed': []}, (8, 7): {'possiblelist': [1, 9], 'traversed': []}, (8, 8): {'possiblelist': [8, 9], 'traversed': []}}\n",
      "itr 543\n",
      "[[3 1 6 5 7 8 4 9 2]\n",
      " [5 2 9 1 3 4 7 6 8]\n",
      " [4 8 7 6 2 9 5 3 1]\n",
      " [2 6 3 4 1 5 9 8 7]\n",
      " [9 7 4 8 6 3 1 2 5]\n",
      " [8 5 1 7 9 2 6 4 3]\n",
      " [1 3 8 9 4 7 2 5 6]\n",
      " [6 9 2 3 5 1 8 7 4]\n",
      " [7 4 5 2 8 6 3 1 9]]\n"
     ]
    }
   ],
   "source": [
    "import numpy as np \n",
    "\n",
    "mysudoku = np.array([\n",
    "            [3,0,6,5,0,8,4,0,0]\n",
    "           ,[5,2,0,0,0,0,0,0,0]\n",
    "           ,[0,8,7,0,0,0,0,3,1]\n",
    "           ,[0,0,3,0,1,0,0,8,0]\n",
    "           ,[9,0,0,8,6,3,0,0,5]\n",
    "           ,[0,5,0,0,9,0,6,0,0]\n",
    "           ,[1,3,0,0,0,0,2,5,0]\n",
    "           ,[0,0,0,0,0,0,0,7,4]\n",
    "           ,[0,0,5,2,0,6,3,0,0]])\n",
    "\n",
    "# for quick traversal of 9*9 array\n",
    "calllist = np.array([[i,j] for i in range(0,9) for j in range(0,9)])\n",
    "\n",
    "def findPossible(x,y):\n",
    "    onetonineset = set(range(1,10))\n",
    "    row = set(mysudoku[x,])\n",
    "    col = set(mysudoku[:,y])\n",
    "    squarex = x//3\n",
    "    squarey = y//3\n",
    "    rowset = onetonineset.difference(row)\n",
    "    colset = onetonineset.difference(col)\n",
    "    finalset = rowset.intersection(colset)\n",
    "    square = set((mysudoku[squarex*3:squarex*3+3,squarey*3:squarey*3+3]).reshape(9))\n",
    "    finalset = finalset.difference(square)\n",
    "    out = list(finalset)\n",
    "    return out\n",
    "\n",
    "def isValid(x,y,value):\n",
    "    return (True if set(findPossible(x,y)).intersection(set([value])) else False)\n",
    "\n",
    "trials_dict = {}  # a dictionary that for each position stores list of possible values and traversed values \n",
    "empty_cells = []  # for storing cells that have zeros \n",
    "\n",
    "for x,y in calllist:\n",
    "    if mysudoku[x,y] == 0:\n",
    "        possiblelist = findPossible(x,y)\n",
    "        trials_dict[(x,y)] = {'possiblelist': possiblelist,'traversed': []}\n",
    "        empty_cells.append((x,y))\n",
    "\n",
    "print ('empty cells: ' , empty_cells)\n",
    "print('trials_dict: ', trials_dict)\n",
    "\n",
    "index, itr = 0,0\n",
    "while 1==1:\n",
    "    (x,y) = empty_cells[index]\n",
    "    element = trials_dict[(x,y)]\n",
    "    possible = list(set(element['possiblelist']).difference(set(element['traversed'])))\n",
    "    found = False\n",
    "    for k in range(0,len(possible)):\n",
    "        if isValid(x,y,possible[k]):\n",
    "            mysudoku[x,y] = possible[k]\n",
    "            trials_dict[(x,y)]['traversed'].append(possible[k])\n",
    "            found, index = True, index+1\n",
    "            break\n",
    "    if not found:\n",
    "        trials_dict[(x,y)]['traversed'] = []\n",
    "        index = index - 1 \n",
    "        mysudoku[empty_cells[index]] = 0\n",
    "\n",
    "    #print('at index', index)\n",
    "    itr = itr+1\n",
    "    if index == len(empty_cells):\n",
    "        break \n",
    "\n",
    "print ('itr', itr)\n",
    "print (mysudoku)\n",
    "\n"
   ]
  },
  {
   "cell_type": "code",
   "execution_count": null,
   "metadata": {},
   "outputs": [],
   "source": []
  }
 ],
 "metadata": {
  "kernelspec": {
   "display_name": "Python 3",
   "language": "python",
   "name": "python3"
  },
  "language_info": {
   "codemirror_mode": {
    "name": "ipython",
    "version": 3
   },
   "file_extension": ".py",
   "mimetype": "text/x-python",
   "name": "python",
   "nbconvert_exporter": "python",
   "pygments_lexer": "ipython3",
   "version": "3.7.3"
  }
 },
 "nbformat": 4,
 "nbformat_minor": 2
}

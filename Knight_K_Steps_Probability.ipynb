{
 "cells": [
  {
   "cell_type": "code",
   "execution_count": 169,
   "metadata": {},
   "outputs": [
    {
     "name": "stdout",
     "output_type": "stream",
     "text": [
      "200 522\n"
     ]
    }
   ],
   "source": [
    "import numpy as np \n",
    "\n",
    "# for a given size of chessboard, a starting position of knight, n number of moves knight has to play\n",
    "# tell the probability it will remain in the board or out of the board. \n",
    "# this program calculates total moves that remain in board and total that go out of the board of all possible moves\n",
    "\n",
    "# for each position check if its out of board. if it is then add 1 to invalid moves \n",
    "# for each inboard move check if its nth move (final). if so add to valid counts \n",
    "# if its not nth move then continue next moves \n",
    "\n",
    "valid_moves, invalid_moves = 0,0\n",
    "possibleMoves = lambda x,y: [(x+2,y+1),(x+2,y-1),(x+1,y-2),(x-1,y-2),(x-2,y-1),(x-2,y+1),(x-1,y+2),(x+1,y+2)]\n",
    "inboard = lambda x,y: True if x < size and y < size and x >= 0 and y >= 0 else False\n",
    "\n",
    "def incr_invalid():\n",
    "    global invalid_moves\n",
    "    invalid_moves = invalid_moves+1\n",
    "    return True \n",
    "\n",
    "def incr_valid():\n",
    "    global valid_moves\n",
    "    valid_moves = valid_moves+1\n",
    "    return True \n",
    "\n",
    "def countMoves(x,y,size,total_moves,current_move=0):\n",
    "    global valid_moves, invalid_moves\n",
    "    finalmove = True if current_move == total_moves else False\n",
    "    nextmoves = lambda x,y : [countMoves(mx,mv,size,total_moves,current_move+1) for (mx,mv) in possibleMoves(x,y)]\n",
    "    incr_invalid() if not inboard(x,y) else incr_valid() if finalmove else nextmoves(x,y)\n",
    "                    \n",
    "countMoves(x=0,y=0,size=8,total_moves=5)\n",
    "print (valid_moves, invalid_moves)"
   ]
  }
 ],
 "metadata": {
  "kernelspec": {
   "display_name": "Python 3",
   "language": "python",
   "name": "python3"
  },
  "language_info": {
   "codemirror_mode": {
    "name": "ipython",
    "version": 3
   },
   "file_extension": ".py",
   "mimetype": "text/x-python",
   "name": "python",
   "nbconvert_exporter": "python",
   "pygments_lexer": "ipython3",
   "version": "3.7.3"
  }
 },
 "nbformat": 4,
 "nbformat_minor": 2
}

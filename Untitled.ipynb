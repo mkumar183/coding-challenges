{
 "cells": [
  {
   "cell_type": "code",
   "execution_count": null,
   "metadata": {},
   "outputs": [],
   "source": [
    "from functools import reduce\n",
    "n = int(input())\n",
    "print(\"Don't Come Near Me!! :P\" if n < 0 else reduce(lambda x,y: x*y, [i for i in range(1,n+1)]))"
   ]
  },
  {
   "cell_type": "code",
   "execution_count": 7,
   "metadata": {},
   "outputs": [
    {
     "data": {
      "text/plain": [
       "array([433,  55, 111, 323, 251, 217, 445,  35, 344, 239,  90,  80, 227,\n",
       "        59, 282, 476, 228, 147, 188, 361, 319, 385, 427, 395, 329, 129,\n",
       "       471, 157, 465, 270, 372, 188,  86, 172, 465,  64, 128, 323, 327,\n",
       "        71, 332, 356, 356, 460, 146, 146,  69, 174,   4, 263, 460, 223,\n",
       "       495, 412, 355, 295, 112, 218,  65,  63, 168, 123, 297, 387,  51,\n",
       "       388,  16, 320, 116,  20, 445,  87, 174, 432, 285, 486, 329,  66,\n",
       "       254, 325,  56, 296, 139, 327,  66, 171, 229, 242,  81, 482,  68,\n",
       "       206, 427, 115,  67, 328, 137, 361,  44, 439])"
      ]
     },
     "execution_count": 7,
     "metadata": {},
     "output_type": "execute_result"
    }
   ],
   "source": [
    "import numpy as np \n",
    "k = np.random.randint(low=1, high=500, size=100)\n",
    "k"
   ]
  },
  {
   "cell_type": "code",
   "execution_count": 8,
   "metadata": {},
   "outputs": [
    {
     "data": {
      "image/png": "[encoded data removed]",
      "text/plain": [
       "<Figure size 432x288 with 1 Axes>"
      ]
     },
     "metadata": {
      "needs_background": "light"
     },
     "output_type": "display_data"
    }
   ],
   "source": [
    "import matplotlib.mlab as mlab\n",
    "import matplotlib.pyplot as plt\n",
    "\n",
    "num_bins = 15\n",
    "n, bins, patches = plt.hist(k, num_bins, facecolor='blue', alpha=0.5)\n",
    "plt.show()"
   ]
  }
 ],
 "metadata": {
  "kernelspec": {
   "display_name": "Python 3",
   "language": "python",
   "name": "python3"
  },
  "language_info": {
   "codemirror_mode": {
    "name": "ipython",
    "version": 3
   },
   "file_extension": ".py",
   "mimetype": "text/x-python",
   "name": "python",
   "nbconvert_exporter": "python",
   "pygments_lexer": "ipython3",
   "version": "3.7.3"
  }
 },
 "nbformat": 4,
 "nbformat_minor": 2
}

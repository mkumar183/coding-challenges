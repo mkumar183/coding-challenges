{
 "cells": [
  {
   "cell_type": "code",
   "execution_count": 89,
   "metadata": {},
   "outputs": [
    {
     "name": "stdout",
     "output_type": "stream",
     "text": [
      "[[], [], [], [], [], []]\n",
      "0 0 0\n",
      "0 2 0\n",
      "[[1], [], [], [], [], []]\n",
      "1 0 0\n",
      "1 2 1\n",
      "[[1], [3], [], [], [], []]\n",
      "2 0 -1\n",
      "2 2 0\n",
      "[[1], [3], [3], [], [], []]\n",
      "3 0 -1\n",
      "3 2 1\n",
      "[[1], [3], [3], [2], [], []]\n",
      "4 0 -2\n",
      "4 2 0\n",
      "[[1], [3], [3], [2], [2], []]\n",
      "5 0 -2\n",
      "5 2 1\n",
      "[[1], [3], [3], [2], [2], [1]]\n",
      "0 1 0\n",
      "0 1 0\n",
      "[[1, 1], [3], [3], [2], [2], [1]]\n",
      "1 1 0\n",
      "1 1 0\n",
      "[[1, 1], [3, 1], [3], [2], [2], [1]]\n",
      "2 1 0\n",
      "2 1 0\n",
      "[[1, 1], [3, 1], [3, 1], [2], [2], [1]]\n",
      "3 1 0\n",
      "3 1 0\n",
      "[[1, 1], [3, 1], [3, 1], [2, 1], [2], [1]]\n",
      "4 1 0\n",
      "4 1 0\n",
      "[[1, 1], [3, 1], [3, 1], [2, 1], [2, 1], [1]]\n",
      "5 1 0\n",
      "5 1 0\n",
      "[[1, 1], [3, 1], [3, 1], [2, 1], [2, 1], [1, 1]]\n",
      "0 2 0\n",
      "0 1 0\n",
      "[[1, 1, 1], [3, 1], [3, 1], [2, 1], [2, 1], [1, 1]]\n",
      "1 2 0\n",
      "1 1 0\n",
      "[[1, 1, 1], [3, 1, 1], [3, 1], [2, 1], [2, 1], [1, 1]]\n",
      "2 2 0\n",
      "2 1 0\n",
      "[[1, 1, 1], [3, 1, 1], [3, 1, 1], [2, 1], [2, 1], [1, 1]]\n",
      "3 2 0\n",
      "3 1 0\n",
      "[[1, 1, 1], [3, 1, 1], [3, 1, 1], [2, 1, 1], [2, 1], [1, 1]]\n",
      "4 2 0\n",
      "4 1 0\n",
      "[[1, 1, 1], [3, 1, 1], [3, 1, 1], [2, 1, 1], [2, 1, 1], [1, 1]]\n",
      "5 2 0\n",
      "5 1 0\n",
      "[[1, 1, 1], [3, 1, 1], [3, 1, 1], [2, 1, 1], [2, 1, 1], [1, 1, 1]]\n",
      "[[1, 1, 1], [3, 1, 1], [3, 1, 1], [2, 1, 1], [2, 1, 1], [1, 1, 1]]\n"
     ]
    }
   ],
   "source": [
    "## this can be accomplished by a generator function. \n",
    "# inputs to generator (total number of elements in array, position of elem to generate, order of elem to be generated)\n",
    "\n",
    "# assumptions: all elements of array are distinct. \n",
    "import math\n",
    "\n",
    "\n",
    "arr = [1,2,3]\n",
    "size = len(arr)\n",
    "outarray = []\n",
    "outsize = math.factorial(size)\n",
    "\n",
    "def generate(i, k, prev):  # ith element in kth array prev is index of element in prev output\n",
    "    print(k, math.factorial(i-1), k%math.factorial(i-1))\n",
    "    rem = k%math.factorial(i-1)\n",
    "    if rem > 0:\n",
    "        return (prev)\n",
    "    else k == 0 :\n",
    "        return (prev)\n",
    "    else:\n",
    "        return (prev+1)\n",
    "\n",
    "# generate out empty array \n",
    "for i in range(math.factorial(size)):\n",
    "    outarray.append([])\n",
    "\n",
    "print(outarray)\n",
    "# fill output arrays \n",
    "for i in range(size): # fill ith element in each output array \n",
    "    prev = 0 # start with zeroth element \n",
    "    for k in range(outsize): # fill in kth array in each output array \n",
    "        print(k, i, prev)\n",
    "        prev = generate(size-i,k,prev-1) # it will give next element \n",
    "        outarray[k].append(arr[prev])\n",
    "        print(outarray)\n",
    "\n",
    "print(outarray)"
   ]
  },
  {
   "cell_type": "code",
   "execution_count": null,
   "metadata": {},
   "outputs": [],
   "source": []
  },
  {
   "cell_type": "code",
   "execution_count": null,
   "metadata": {},
   "outputs": [],
   "source": []
  },
  {
   "cell_type": "code",
   "execution_count": 22,
   "metadata": {},
   "outputs": [
    {
     "ename": "TypeError",
     "evalue": "'list' object is not callable",
     "output_type": "error",
     "traceback": [
      "\u001b[0;31m---------------------------------------------------------------------------\u001b[0m",
      "\u001b[0;31mTypeError\u001b[0m                                 Traceback (most recent call last)",
      "\u001b[0;32m<ipython-input-22-5705a264e45c>\u001b[0m in \u001b[0;36m<module>\u001b[0;34m\u001b[0m\n\u001b[0;32m----> 1\u001b[0;31m \u001b[0mprint\u001b[0m\u001b[0;34m(\u001b[0m\u001b[0mgenerate\u001b[0m\u001b[0;34m(\u001b[0m\u001b[0;36m3\u001b[0m\u001b[0;34m,\u001b[0m\u001b[0;36m1\u001b[0m\u001b[0;34m,\u001b[0m\u001b[0;36m0\u001b[0m\u001b[0;34m,\u001b[0m\u001b[0;36m0\u001b[0m\u001b[0;34m,\u001b[0m\u001b[0;34m[\u001b[0m\u001b[0;36m1\u001b[0m\u001b[0;34m,\u001b[0m\u001b[0;36m2\u001b[0m\u001b[0;34m,\u001b[0m\u001b[0;36m3\u001b[0m\u001b[0;34m]\u001b[0m\u001b[0;34m)\u001b[0m\u001b[0;34m)\u001b[0m\u001b[0;34m\u001b[0m\u001b[0;34m\u001b[0m\u001b[0m\n\u001b[0m",
      "\u001b[0;32m<ipython-input-21-654e3e8ca6ac>\u001b[0m in \u001b[0;36mgenerate\u001b[0;34m(n, p, o, c, arr)\u001b[0m\n\u001b[1;32m     10\u001b[0m     \u001b[0;31m# so to determine number to be generated if o < fact(p-1) then it will be last number generated. else next.\u001b[0m\u001b[0;34m\u001b[0m\u001b[0;34m\u001b[0m\u001b[0;34m\u001b[0m\u001b[0m\n\u001b[1;32m     11\u001b[0m     \u001b[0;32mif\u001b[0m \u001b[0mo\u001b[0m \u001b[0;34m<\u001b[0m \u001b[0mmath\u001b[0m\u001b[0;34m.\u001b[0m\u001b[0mfactorial\u001b[0m\u001b[0;34m(\u001b[0m\u001b[0mp\u001b[0m\u001b[0;34m)\u001b[0m\u001b[0;34m:\u001b[0m\u001b[0;34m\u001b[0m\u001b[0;34m\u001b[0m\u001b[0m\n\u001b[0;32m---> 12\u001b[0;31m         \u001b[0;32mreturn\u001b[0m \u001b[0marr\u001b[0m\u001b[0;34m(\u001b[0m\u001b[0mc\u001b[0m\u001b[0;34m+\u001b[0m\u001b[0;36m1\u001b[0m\u001b[0;34m)\u001b[0m\u001b[0;34m\u001b[0m\u001b[0;34m\u001b[0m\u001b[0m\n\u001b[0m\u001b[1;32m     13\u001b[0m     \u001b[0;32melse\u001b[0m\u001b[0;34m:\u001b[0m\u001b[0;34m\u001b[0m\u001b[0;34m\u001b[0m\u001b[0m\n\u001b[1;32m     14\u001b[0m         \u001b[0;32mreturn\u001b[0m \u001b[0marr\u001b[0m\u001b[0;34m(\u001b[0m\u001b[0mc\u001b[0m\u001b[0;34m)\u001b[0m\u001b[0;34m\u001b[0m\u001b[0;34m\u001b[0m\u001b[0m\n",
      "\u001b[0;31mTypeError\u001b[0m: 'list' object is not callable"
     ]
    }
   ],
   "source": []
  },
  {
   "cell_type": "code",
   "execution_count": 4,
   "metadata": {},
   "outputs": [
    {
     "name": "stdout",
     "output_type": "stream",
     "text": [
      "6\n",
      "1\n",
      "2\n",
      "3\n"
     ]
    }
   ],
   "source": [
    "input = [1,2,3]\n",
    "\n",
    "output = []\n",
    "outlen = 1\n",
    "for i in range(len(input)):\n",
    "    outlen = outlen*(i+1) \n",
    "print(outlen)\n",
    "for i in outlen:\n",
    "    print(i)"
   ]
  },
  {
   "cell_type": "code",
   "execution_count": 11,
   "metadata": {},
   "outputs": [
    {
     "name": "stdout",
     "output_type": "stream",
     "text": [
      "The factorial of 23 is : 25852016738884976640000\n"
     ]
    }
   ],
   "source": [
    "import math \n",
    "  \n",
    "print (\"The factorial of 23 is : \", end=\"\") \n",
    "print (math.factorial(23)) "
   ]
  }
 ],
 "metadata": {
  "kernelspec": {
   "display_name": "Python 3",
   "language": "python",
   "name": "python3"
  },
  "language_info": {
   "codemirror_mode": {
    "name": "ipython",
    "version": 3
   },
   "file_extension": ".py",
   "mimetype": "text/x-python",
   "name": "python",
   "nbconvert_exporter": "python",
   "pygments_lexer": "ipython3",
   "version": "3.7.6"
  }
 },
 "nbformat": 4,
 "nbformat_minor": 4
}

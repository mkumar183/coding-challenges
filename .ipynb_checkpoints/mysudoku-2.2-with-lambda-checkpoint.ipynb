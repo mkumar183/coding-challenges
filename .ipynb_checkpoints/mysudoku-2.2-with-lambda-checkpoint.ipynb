{
 "cells": [
  {
   "cell_type": "code",
   "execution_count": 81,
   "metadata": {
    "scrolled": true
   },
   "outputs": [
    {
     "name": "stdout",
     "output_type": "stream",
     "text": [
      "itr 543\n",
      "[[3 1 6 5 7 8 4 9 2]\n",
      " [5 2 9 1 3 4 7 6 8]\n",
      " [4 8 7 6 2 9 5 3 1]\n",
      " [2 6 3 4 1 5 9 8 7]\n",
      " [9 7 4 8 6 3 1 2 5]\n",
      " [8 5 1 7 9 2 6 4 3]\n",
      " [1 3 8 9 4 7 2 5 6]\n",
      " [6 9 2 3 5 1 8 7 4]\n",
      " [7 4 5 2 8 6 3 1 9]]\n"
     ]
    }
   ],
   "source": [
    "import numpy as np \n",
    "\n",
    "mysudoku = np.array([\n",
    "            [3,0,6,5,0,8,4,0,0]\n",
    "           ,[5,2,0,0,0,0,0,0,0]\n",
    "           ,[0,8,7,0,0,0,0,3,1]\n",
    "           ,[0,0,3,0,1,0,0,8,0]\n",
    "           ,[9,0,0,8,6,3,0,0,5]\n",
    "           ,[0,5,0,0,9,0,6,0,0]\n",
    "           ,[1,3,0,0,0,0,2,5,0]\n",
    "           ,[0,0,0,0,0,0,0,7,4]\n",
    "           ,[0,0,5,2,0,6,3,0,0]])\n",
    "\n",
    "def findPossible(x,y):\n",
    "    onetonineset = set(range(1,10))\n",
    "    row,col = mysudoku[x,],mysudoku[:,y]\n",
    "    sx,sy = x//3,y//3\n",
    "    square = ((mysudoku[sx*3:sx*3+3,sy*3:sy*3+3]).reshape(9))\n",
    "    all = set(np.concatenate((row,col,square)))\n",
    "    return onetonineset.difference(all)\n",
    "\n",
    "# for quick traversal of 9*9 array\n",
    "calllist = np.array([[i,j] for i in range(0,9) for j in range(0,9)])\n",
    "empty_cells = [(x,y) for x,y in calllist if mysudoku[x,y] == 0]\n",
    "trials_dict = {(x,y): {'possiblelist':findPossible(x,y), 'traversed':[]} for x,y in empty_cells}       \n",
    "#print ('empty_cells', empty_cells)\n",
    "#print ('trials_dict', trials_dict)   \n",
    "\n",
    "index,itr = 0,0\n",
    "isValid = lambda x,y,value: True if set(findPossible(x,y)).intersection(set([value])) else False\n",
    "while index < len(empty_cells):\n",
    "    (x,y) = empty_cells[index]\n",
    "    possible = list(set(trials_dict[(x,y)]['possiblelist']).difference(set(trials_dict[(x,y)]['traversed'])))\n",
    "    found = False\n",
    "    for k in range(0,len(possible)):\n",
    "        if isValid(x,y,possible[k]): #isValid checked after sudoku has been modified by previous moves\n",
    "            mysudoku[x,y] = possible[k]\n",
    "            trials_dict[(x,y)]['traversed'].append(possible[k])\n",
    "            found, index = True, index+1\n",
    "            break\n",
    "    if not found:\n",
    "        trials_dict[(x,y)]['traversed'] = []\n",
    "        index = index - 1 \n",
    "        mysudoku[empty_cells[index]] = 0\n",
    "    itr = itr+1\n",
    "\n",
    "print ('itr', itr)\n",
    "print (mysudoku)"
   ]
  },
  {
   "cell_type": "code",
   "execution_count": null,
   "metadata": {},
   "outputs": [],
   "source": []
  }
 ],
 "metadata": {
  "kernelspec": {
   "display_name": "Python 3",
   "language": "python",
   "name": "python3"
  },
  "language_info": {
   "codemirror_mode": {
    "name": "ipython",
    "version": 3
   },
   "file_extension": ".py",
   "mimetype": "text/x-python",
   "name": "python",
   "nbconvert_exporter": "python",
   "pygments_lexer": "ipython3",
   "version": "3.7.6"
  }
 },
 "nbformat": 4,
 "nbformat_minor": 2
}

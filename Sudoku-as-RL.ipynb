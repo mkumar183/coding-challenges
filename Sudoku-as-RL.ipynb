{
 "cells": [
  {
   "cell_type": "markdown",
   "metadata": {},
   "source": [
    "Attempt to write RL algorithm to solve a sudoku. \n",
    "Goal of RL: Given a starting sudoku what is the best sequence in which it should try to solve sudoku. best sequence is optimal path. Following this path sudoku can be solved in fastest way. \n",
    "\n",
    "Reward Structure: \n",
    "- Based on possible values in a cell and in the neighbourhood. high reward when possible options are less. \n",
    "- "
   ]
  },
  {
   "cell_type": "markdown",
   "metadata": {},
   "source": [
    "how would you define \n"
   ]
  },
  {
   "cell_type": "markdown",
   "metadata": {},
   "source": []
  }
 ],
 "metadata": {
  "kernelspec": {
   "display_name": "Python 3",
   "language": "python",
   "name": "python3"
  },
  "language_info": {
   "codemirror_mode": {
    "name": "ipython",
    "version": 3
   },
   "file_extension": ".py",
   "mimetype": "text/x-python",
   "name": "python",
   "nbconvert_exporter": "python",
   "pygments_lexer": "ipython3",
   "version": "3.7.6"
  }
 },
 "nbformat": 4,
 "nbformat_minor": 4
}
